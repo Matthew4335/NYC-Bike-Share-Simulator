{
  "cells": [
    {
      "cell_type": "markdown",
      "metadata": {
        "id": "ivGDsMU-rKoP"
      },
      "source": [
        "# NYC Bike Share Simulation"
      ]
    },
    {
      "cell_type": "markdown",
      "metadata": {
        "id": "3WG17Lb8rkhN"
      },
      "source": [
        "## 1. Scenario"
      ]
    },
    {
      "cell_type": "markdown",
      "metadata": {
        "id": "fZ2vvj3jrxQ0"
      },
      "source": [
        "This project will involve the implementation of and experimentation with a discrete event simualtion of a bike sharing service in NYC. The simulation will involve riders and bike stations where riders can pick up and drop off bikes."
      ]
    },
    {
      "cell_type": "markdown",
      "metadata": {
        "id": "RLFK4wkwrQy9"
      },
      "source": [
        "## 2.1 Simulator Implementation"
      ]
    },
    {
      "cell_type": "markdown",
      "metadata": {},
      "source": [
        "This section will detail the implementation of the simulator. This simulator is implemented using three classes, Events, Stations, and Riders. Station and Rider objects will each hold data corresponding to bike stations and bike riders, respectively. Event objects will hold data corresponding to either an arrival of a rider at a station or the return of a rider to a station. Once at a station, a rider will either take or return a bike, or enter the correpsonding queue if necessary. A rider will need to enter a queue at a station if the station either does not have enough bikes for the rider that is arriving, or if it is at capacity when a rider returns. For this simulator, there will be m stations and n riders. the arrival times of riders will be given by an exponential distribution with mean rate $\\lambda$. A rider will select station i to initially go to with probability $p_i$, and will return to station j with probability $q_{i,j}$ The duration of a rider's use of the bike will be generated using a log-normal distribution with mean $\\mu$ and standard deviation $\\sigma$."
      ]
    },
    {
      "cell_type": "code",
      "execution_count": 26,
      "metadata": {
        "id": "hNkqJMER6d-w"
      },
      "outputs": [],
      "source": [
        "import numpy as np\n",
        "import heapq"
      ]
    },
    {
      "cell_type": "code",
      "execution_count": 27,
      "metadata": {
        "id": "pqJO41zwrJyt"
      },
      "outputs": [],
      "source": [
        "class Event:\n",
        "  def __init__(self, time, event_type, rider, source=None, destination=None):\n",
        "    self.time = time\n",
        "    self.event_type = event_type\n",
        "    self.rider = rider\n",
        "    self.source = source\n",
        "    self.destination = destination\n",
        "\n",
        "  def __lt__(self, other):\n",
        "    return self.time < other.time\n",
        "\n",
        "class Station:\n",
        "  def __init__(self, id, initial_num, capacity):\n",
        "    self.id = id\n",
        "    self.num_bikes = initial_num\n",
        "    self.capacity = capacity\n",
        "    self.arrival_queue = []\n",
        "    self.return_queue = []\n",
        "\n",
        "class Rider:\n",
        "  def __init__(self, id):\n",
        "    self.id = id\n",
        "    self.completed_ride = False\n",
        "    self.arrival_time = None\n",
        "    self.departure_time = None\n",
        "    self.attempted_return_time = None\n",
        "    self.return_time = None\n",
        "    self.source = None\n",
        "    self.destination = None\n"
      ]
    },
    {
      "cell_type": "code",
      "execution_count": 28,
      "metadata": {
        "id": "5Z4pPH7C5v5W"
      },
      "outputs": [],
      "source": [
        "def arrival(time, rider, arrival_rate, num_stations, arrival_probabilities, stations):\n",
        "  time += np.random.exponential(1/arrival_rate)\n",
        "  source = stations[np.random.choice(num_stations, p=arrival_probabilities)]\n",
        "  rider.source = source\n",
        "  rider.arrival_time = time\n",
        "  return Event(time, \"arrival\", rider, source)\n",
        "\n",
        "def attempt_return(time, rider, num_stations, duration_mean, duration_std, destination_probabilities, stations):\n",
        "  duration = np.random.lognormal(mean=duration_mean, sigma=duration_std)\n",
        "  time += duration\n",
        "  destination = stations[np.random.choice(num_stations, p=destination_probabilities[rider.source.id])]\n",
        "  rider.destination = destination\n",
        "  rider.attempted_return_time = time\n",
        "  return Event(time, \"return\", rider, rider.source, destination)\n"
      ]
    },
    {
      "cell_type": "code",
      "execution_count": 47,
      "metadata": {
        "id": "XbNN3b6P-TxC"
      },
      "outputs": [],
      "source": [
        "def simulate(num_riders, duration_mean, duration_std, arrival_rate, num_stations,\n",
        "             stations_initial, station_capacities, arrival_probabilities, destination_probabilities, sim_time, sim=1):\n",
        "  stations = [Station(i, stations_initial[i], station_capacities[i]) for i in range(num_stations)]\n",
        "  riders = [Rider(i) for i in range(num_riders)]\n",
        "  event_list = []\n",
        "  num_bikes_needed = stations_initial.copy()\n",
        "  time = 0\n",
        "  heapq.heappush(event_list, arrival(time, riders[0], arrival_rate, num_stations, arrival_probabilities, stations))\n",
        "\n",
        "  while time <= sim_time * 60 and len(event_list) > 0:\n",
        "    current_event = heapq.heappop(event_list)\n",
        "    time = current_event.time\n",
        "    if current_event.event_type == \"arrival\":\n",
        "      station = current_event.source\n",
        "      rider = current_event.rider\n",
        "      #print(f\"Rider {rider.id} arrived at station {station.id}  at time {time}\")\n",
        "      if (rider.id < num_riders - 1):\n",
        "        heapq.heappush(event_list, arrival(time, riders[rider.id + 1], arrival_rate, num_stations, arrival_probabilities, stations))\n",
        "      if station.num_bikes > 0:\n",
        "        #print(f\"Rider {rider.id} departed station {station.id} at time {time}\")\n",
        "        rider.departure_time = time\n",
        "        station.num_bikes -= 1\n",
        "        heapq.heappush(event_list, attempt_return(time, rider, num_stations, duration_mean, duration_std, destination_probabilities, stations))\n",
        "      else:\n",
        "        #print(f\"Rider {rider.id} entered arrival queue at station {station.id} at time {time}\")\n",
        "        if (sim == 1):\n",
        "          station.arrival_queue.append(rider)\n",
        "        else:\n",
        "          num_bikes_needed[station.id] += 1\n",
        "          rider.departure_time = time\n",
        "          heapq.heappush(event_list, attempt_return(time, rider, num_stations, duration_mean, duration_std, destination_probabilities, stations))\n",
        "      if len(station.return_queue) > 0:\n",
        "        station.num_bikes += 1\n",
        "        rider = station.return_queue.pop(0)\n",
        "        rider.completed_ride = True\n",
        "        rider.return_time = time\n",
        "    else:\n",
        "      station = current_event.destination\n",
        "      rider = current_event.rider\n",
        "      #print(f\"Rider {rider.id} returned to station {station.id} at time {time}\")\n",
        "      if station.num_bikes < station.capacity:\n",
        "        #print(f\"Rider {rider.id} completed ride at {station.id} at time {time}\")\n",
        "        station.num_bikes += 1\n",
        "        rider.completed_ride = True\n",
        "        rider.return_time = time\n",
        "      else:\n",
        "        #print(f\"Rider {rider.id} entered return queue at station {station.id} at time {time}\")\n",
        "        station.return_queue.append(rider)\n",
        "      if len(station.arrival_queue) > 0:\n",
        "        rider = station.arrival_queue.pop(0)\n",
        "        #print(f\"Rider {rider.id} departed station {station.id} at time {time}\")\n",
        "        rider.departure_time = time\n",
        "        station.num_bikes -= 1\n",
        "        heapq.heappush(event_list, attempt_return(time, rider, num_stations, duration_mean, duration_std, destination_probabilities, stations))\n",
        "\n",
        "\n",
        "  #Simulation data\n",
        "\n",
        "  #End number of Bikes at each station\n",
        "  #for station in stations:\n",
        "    #print(f\"Number of bikes at station {station.id}: {station.num_bikes}\")\n",
        "\n",
        "  #Average ride time for riders who obtained a bike and attempted to return it and number riders who got a bike\n",
        "  return_time = 0\n",
        "  num_successful_riders = 0\n",
        "  for rider in riders:\n",
        "    if (rider.departure_time is not None and rider.attempted_return_time is not None):\n",
        "      return_time += (rider.attempted_return_time - rider.departure_time)\n",
        "      num_successful_riders += 1\n",
        "  return_time /= num_successful_riders\n",
        "  #print(f\"Average ride time: {return_time}\")\n",
        "\n",
        "  #Percent of successful riders\n",
        "  average_riders = num_successful_riders / num_riders\n",
        "  #print(f\"Probability of successful ride: {average_riders}\")\n",
        "\n",
        "  #Average waiting time\n",
        "  wait_time = 0\n",
        "  for rider in riders:\n",
        "    if (rider.departure_time is not None and rider.arrival_time is not None):\n",
        "      wait_time += (rider.departure_time - rider.arrival_time)\n",
        "  wait_time /= num_successful_riders\n",
        "  #print(wait_time)\n",
        "\n",
        "  return(average_riders, wait_time, num_bikes_needed)\n"
      ]
    },
    {
      "cell_type": "markdown",
      "metadata": {},
      "source": [
        "### Testing"
      ]
    },
    {
      "cell_type": "markdown",
      "metadata": {},
      "source": [
        "This simulator was verified using several simulations with varying parameters and checking that the behavior matches the expected behavior"
      ]
    },
    {
      "cell_type": "markdown",
      "metadata": {},
      "source": [
        "For example, in the following simulation the expected behavior is that each of the seven riders will arrive to one of the three stations, attempt to take a bike, and then depart the station. At some point in the future, the rider should return to a station and exit the system. Here, the intitial number of bikes at each station is enough so that no rider should have to enter the arrival queue to wait for a bike. Additionally, no rider should have to wait to return a bike since the capacities are high enough for these stations."
      ]
    },
    {
      "cell_type": "markdown",
      "metadata": {},
      "source": [
        "As can be seen in the output, this simulation results in expected behavior."
      ]
    },
    {
      "cell_type": "code",
      "execution_count": 24,
      "metadata": {
        "colab": {
          "base_uri": "https://localhost:8080/"
        },
        "id": "aZpYiOBeHrj8",
        "outputId": "b868585b-8e8c-4289-d551-14280e7c9a02"
      },
      "outputs": [
        {
          "name": "stdout",
          "output_type": "stream",
          "text": [
            "Rider 0 arrived at station 0  at time 0.11050055988428756\n",
            "Rider 0 departed station 0 at time 0.11050055988428756\n",
            "Rider 1 arrived at station 0  at time 0.4011051696670064\n",
            "Rider 1 departed station 0 at time 0.4011051696670064\n",
            "Rider 2 arrived at station 2  at time 0.5985260212478244\n",
            "Rider 2 departed station 2 at time 0.5985260212478244\n",
            "Rider 3 arrived at station 2  at time 0.9797587889738364\n",
            "Rider 3 departed station 2 at time 0.9797587889738364\n",
            "Rider 4 arrived at station 0  at time 1.1471014307550351\n",
            "Rider 4 departed station 0 at time 1.1471014307550351\n",
            "Rider 5 arrived at station 2  at time 1.3981976820177298\n",
            "Rider 5 departed station 2 at time 1.3981976820177298\n",
            "Rider 6 arrived at station 1  at time 1.4891138879064436\n",
            "Rider 6 departed station 1 at time 1.4891138879064436\n",
            "Rider 5 returned to station 0 at time 6.5170584362084165\n",
            "Rider 5 completed ride at 0 at time 6.5170584362084165\n",
            "Rider 6 returned to station 0 at time 11.903136905732488\n",
            "Rider 6 completed ride at 0 at time 11.903136905732488\n",
            "Rider 2 returned to station 0 at time 11.983052607650501\n",
            "Rider 2 completed ride at 0 at time 11.983052607650501\n",
            "Rider 0 returned to station 2 at time 13.518148734676213\n",
            "Rider 0 completed ride at 2 at time 13.518148734676213\n",
            "Rider 3 returned to station 2 at time 19.39525371317459\n",
            "Rider 3 completed ride at 2 at time 19.39525371317459\n",
            "Rider 1 returned to station 0 at time 26.35014303234462\n",
            "Rider 1 completed ride at 0 at time 26.35014303234462\n",
            "Rider 4 returned to station 2 at time 35.850775974456894\n",
            "Rider 4 completed ride at 2 at time 35.850775974456894\n"
          ]
        }
      ],
      "source": [
        "num_riders = 7\n",
        "num_stations = 3\n",
        "duration_mean = 2.78\n",
        "duration_std = 0.619\n",
        "arrival_rate = 2.38\n",
        "stations_initial = [7, 7, 7]\n",
        "station_capacities = [10, 10, 10]\n",
        "arrival_probabilities = [0.3, 0.2, 0.5]\n",
        "destination_probabilities = [[0.1, 0.4, 0.5], [0.2, 0.5, 0.3], [0.3, 0.3, 0.4]]\n",
        "sim_time = 5\n",
        "results = simulate(num_riders, duration_mean, duration_std, arrival_rate, num_stations, stations_initial, station_capacities, arrival_probabilities, destination_probabilities, sim_time)"
      ]
    },
    {
      "cell_type": "markdown",
      "metadata": {},
      "source": [
        "Here, the arrival and destination probabilites are varied so that every rider should arrive at station 0 (here, 0 corresponds to whichever the first station is), and then return to station 2. Since there are only five bikes at station 0, the last 2 riders will need to enter the arrival queue. Additionally, each rider will need to enter the return queue at station 2 since it is at capactity. Since no bikes arrive at station 0 and no bikes return to station 2, the riders in the queue will remain there."
      ]
    },
    {
      "cell_type": "code",
      "execution_count": 25,
      "metadata": {},
      "outputs": [
        {
          "name": "stdout",
          "output_type": "stream",
          "text": [
            "Rider 0 arrived at station 0  at time 0.17213467452149098\n",
            "Rider 0 departed station 0 at time 0.17213467452149098\n",
            "Rider 1 arrived at station 0  at time 1.0328058745771203\n",
            "Rider 1 departed station 0 at time 1.0328058745771203\n",
            "Rider 2 arrived at station 0  at time 1.1482384359637683\n",
            "Rider 2 departed station 0 at time 1.1482384359637683\n",
            "Rider 3 arrived at station 0  at time 1.4851933994158513\n",
            "Rider 3 departed station 0 at time 1.4851933994158513\n",
            "Rider 4 arrived at station 0  at time 2.742653378342511\n",
            "Rider 4 departed station 0 at time 2.742653378342511\n",
            "Rider 5 arrived at station 0  at time 2.8105074163012405\n",
            "Rider 5 entered arrival queue at station 0 at time 2.8105074163012405\n",
            "Rider 6 arrived at station 0  at time 2.9124955738769804\n",
            "Rider 6 entered arrival queue at station 0 at time 2.9124955738769804\n",
            "Rider 4 returned to station 2 at time 13.68322320737916\n",
            "Rider 4 entered return queue at station 2 at time 13.68322320737916\n",
            "Rider 2 returned to station 2 at time 14.361219051325019\n",
            "Rider 2 entered return queue at station 2 at time 14.361219051325019\n",
            "Rider 0 returned to station 2 at time 14.911963795611438\n",
            "Rider 0 entered return queue at station 2 at time 14.911963795611438\n",
            "Rider 3 returned to station 2 at time 23.199684361988314\n",
            "Rider 3 entered return queue at station 2 at time 23.199684361988314\n",
            "Rider 1 returned to station 2 at time 24.304938786573278\n",
            "Rider 1 entered return queue at station 2 at time 24.304938786573278\n"
          ]
        }
      ],
      "source": [
        "num_riders = 7\n",
        "num_stations = 3\n",
        "duration_mean = 2.78\n",
        "duration_std = 0.619\n",
        "arrival_rate = 2.38\n",
        "stations_initial = [5, 5, 5]\n",
        "station_capacities = [10, 10, 5]\n",
        "arrival_probabilities = [1.0, 0.0, 0.0]\n",
        "destination_probabilities = [[0.0, 0.0, 1.0], [0.2, 0.5, 0.3], [0.3, 0.3, 0.4]]\n",
        "sim_time = 5\n",
        "results = simulate(num_riders, duration_mean, duration_std, arrival_rate, num_stations, stations_initial, station_capacities, arrival_probabilities, destination_probabilities, sim_time)"
      ]
    },
    {
      "cell_type": "markdown",
      "metadata": {},
      "source": [
        "In the process of creating this simulator, several basic simulations like the ones above were run to verify the simulator."
      ]
    },
    {
      "cell_type": "markdown",
      "metadata": {
        "id": "MO8_gtPFrfSm"
      },
      "source": [
        "## 2.2 A Baseline Experiment"
      ]
    },
    {
      "cell_type": "markdown",
      "metadata": {},
      "source": [
        "In this section, an experiment will be run using given data for starting station probabilities and the number of trips made between stations from June 2022. In this experiment, there will be 3500 riders. The arrival rate in the exponential distribution of rider interarrival times will be $\\lambda = 2.38$ riders per minute, and the parameters for ride duration will be $\\mu = 2.78$ and $\\sigma = 0.619$. Note that these are the same parameters used in the testing simulations. Also, note that the print statements in the simulation code, which were used for testing, are commented out for this section."
      ]
    },
    {
      "cell_type": "markdown",
      "metadata": {},
      "source": [
        "This simulation will be used to estimate both percentage of successful riders, that is riders who obtained a bike, and the average waiting time amongst successful riders when each station starts with 10 bikes."
      ]
    },
    {
      "cell_type": "markdown",
      "metadata": {},
      "source": [
        "Locations will be imported from the given CSV files. Each location will be given an index corresponding to its position in start_station_probs.csv"
      ]
    },
    {
      "cell_type": "code",
      "execution_count": 34,
      "metadata": {
        "id": "KAgmqTJ0r48x"
      },
      "outputs": [],
      "source": [
        "import csv"
      ]
    },
    {
      "cell_type": "code",
      "execution_count": 31,
      "metadata": {},
      "outputs": [
        {
          "name": "stdout",
          "output_type": "stream",
          "text": [
            "{'South Waterfront Walkway - Sinatra Dr & 1 St': 0, 'Grove St PATH': 1, 'Hoboken Terminal - Hudson St & Hudson Pl': 2, 'Hoboken Terminal - River St & Hudson Pl': 3, 'Newport Pkwy': 4, 'City Hall - Washington St & 1 St': 5, 'Newport PATH': 6, '12 St & Sinatra Dr N': 7, 'Hoboken Ave at Monmouth St': 8, 'Marin Light Rail': 9, 'Hamilton Park': 10, '14 St Ferry - 14 St & Shipyard Ln': 11, 'Liberty Light Rail': 12, 'Columbus Dr at Exchange Pl': 13, 'Harborside': 14, '11 St & Washington St': 15, 'Washington St': 16, 'Sip Ave': 17, 'Hudson St & 4 St': 18, '8 St & Washington St': 19, 'Madison St & 1 St': 20, 'City Hall': 21, 'Warren St': 22, 'Newark Ave': 23, 'Columbus Park - Clinton St & 9 St': 24, 'Grand St & 14 St': 25, 'Church Sq Park - 5 St & Park Ave': 26, 'Columbus Drive': 27, 'Van Vorst Park': 28, 'Clinton St & Newark St': 29, 'Grand St': 30, 'Paulus Hook': 31, 'Manila & 1st': 32, '9 St HBLR - Jackson St & 8 St': 33, 'Bloomfield St & 15 St': 34, '4 St & Grand St': 35, '7 St & Monroe St': 36, 'JC Medical Center': 37, 'Clinton St & 7 St': 38, 'Willow Ave & 12 St': 39, 'Morris Canal': 40, 'McGinley Square': 41, 'Brunswick & 6th': 42, 'Jersey & 3rd': 43, 'Brunswick St': 44, 'Baldwin at Montgomery': 45, 'Adams St & 2 St': 46, 'Southwest Park - Jackson St & Observer Hwy': 47, 'Marshall St & 2 St': 48, 'Journal Square': 49, 'Madison St & 10 St': 50, '6 St & Grand St': 51, 'Dixon Mills': 52, 'Lafayette Park': 53, 'Riverview Park': 54, 'Stevens - River Ter & 6 St': 55, 'Mama Johnson Field - 4 St & Jackson St': 56, 'Pershing Field': 57, 'Hilltop': 58, 'Jersey & 6th St': 59, 'Essex Light Rail': 60, 'Monmouth and 6th': 61, 'Oakland Ave': 62, 'Adams St & 11 St': 63, 'Bergen Ave': 64, 'Fairmount Ave': 65, 'Montgomery St': 66, 'Christ Hospital': 67, 'Astor Place': 68, 'Heights Elevator': 69, 'Lincoln Park': 70, 'Leonard Gordon Park': 71, 'Communipaw & Berry Lane': 72, '5 Corners Library': 73, 'Glenwood Ave': 74, 'Union St': 75, 'Dey St': 76, 'Jackson Square': 77, 'Bergen Ave & Stegman St': 78, 'Grant Ave & MLK Dr': 79, 'JCBS Depot': 80}\n"
          ]
        }
      ],
      "source": [
        "locations = {}\n",
        "\n",
        "with open('start_station_probs.csv', newline='') as csvfile:\n",
        "    reader = csv.reader(csvfile)\n",
        "    next(reader)\n",
        "    for index, row in enumerate(reader):\n",
        "        location = row[0]\n",
        "        locations[location] = index\n",
        "\n",
        "print(locations)"
      ]
    },
    {
      "cell_type": "code",
      "execution_count": 32,
      "metadata": {},
      "outputs": [
        {
          "name": "stdout",
          "output_type": "stream",
          "text": [
            "[0.04467944609528249, 0.04350443784109227, 0.0336285420186836, 0.02983161451960613, 0.027034900658393056, 0.02635514381712599, 0.025471459923478802, 0.024422692225523897, 0.023684670512148225, 0.023529297519858612, 0.022985492046844958, 0.021616267552292723, 0.02025675386975859, 0.019285672667948495, 0.018664180698790032, 0.017644545436889432, 0.017265823768183496, 0.017032764279749073, 0.016955077783604264, 0.015750937093359747, 0.015488745168871021, 0.015216842432364194, 0.014605061275223834, 0.014304026102662704, 0.013381498960943114, 0.013216415156635398, 0.01294451242012857, 0.012866825923983763, 0.012565790751422634, 0.01233273126298821, 0.012128804210608092, 0.01202198527840898, 0.012002563654372779, 0.011361650061178116, 0.01109945813668939, 0.01109945813668939, 0.011080036512653189, 0.010905241896327371, 0.010759579716055857, 0.00999242556662588, 0.009963293130571578, 0.009943871506535376, 0.009526306589757035, 0.00938064440948552, 0.00937093359746742, 0.009341801161413118, 0.009332090349395016, 0.009283536289304511, 0.009060187612888189, 0.008846549748489968, 0.008700887568218454, 0.007972576666860883, 0.00753559012604634, 0.007487036065955835, 0.0074384820058653305, 0.0073996387577929265, 0.007389927945774826, 0.007360795509720523, 0.007253976577521412, 0.007224844141467109, 0.007108314397249898, 0.006632484608362951, 0.006477111616073336, 0.0064674008040552355, 0.006302316999747519, 0.005622560158480452, 0.0056128493464623515, 0.005583716910408048, 0.0053409466099555245, 0.005321524985919323, 0.005311814173901221, 0.0051078871215211015, 0.004039697799529997, 0.0036124220707335545, 0.003301676086154324, 0.002728738177086368, 0.0026704733049777623, 0.0018159218473848783, 0.001456621802715143, 0.0006894676532851677, 9.710812018100953e-06]\n"
          ]
        }
      ],
      "source": [
        "arrival_probabilities = []\n",
        "\n",
        "with open('start_station_probs.csv', newline='') as csvfile:\n",
        "    reader = csv.reader(csvfile)\n",
        "    next(reader)\n",
        "    for row in reader:\n",
        "        arrival_probabilities.append(float(row[1]))\n",
        "\n",
        "print(arrival_probabilities)"
      ]
    },
    {
      "cell_type": "markdown",
      "metadata": {},
      "source": [
        "Using the indices for each location, a list is generated for return station probabilities, and each of these lists is stored in a list. Note that if an end location (such as any beginning with 6 ave in trip_stats.csv) is not in start_station_probs.csv, then it will not be considered."
      ]
    },
    {
      "cell_type": "code",
      "execution_count": 151,
      "metadata": {},
      "outputs": [],
      "source": [
        "num_locations = len(locations)\n",
        "trip_counts = np.zeros((num_locations, num_locations), dtype=int)\n",
        "\n",
        "with open('trip_stats.csv', newline='') as csvfile:\n",
        "    reader = csv.DictReader(csvfile)\n",
        "    for row in reader:\n",
        "        start_location = row['start']\n",
        "        end_location = row['end']\n",
        "        trip_count = int(row['count'])\n",
        "        start_index = locations.get(start_location)\n",
        "        end_index = locations.get(end_location)\n",
        "        if start_index is not None and end_index is not None:\n",
        "            trip_counts[start_index][end_index] = trip_count\n",
        "\n",
        "\n",
        "total_trips_from_location = np.sum(trip_counts, axis=1, keepdims=True)\n",
        "trip_probabilities = trip_counts / total_trips_from_location\n",
        "destination_probabilities = list(trip_probabilities)\n",
        "\n",
        "for i in range(num_locations):\n",
        "    start_location = list(locations.keys())[i]"
      ]
    },
    {
      "cell_type": "markdown",
      "metadata": {},
      "source": [
        "10 simulations will be run using the inputs described above, and the proportion of successful riders and their average waiting time will be output."
      ]
    },
    {
      "cell_type": "code",
      "execution_count": 108,
      "metadata": {},
      "outputs": [
        {
          "name": "stdout",
          "output_type": "stream",
          "text": [
            "[0.9785714285714285, 0.9348571428571428, 0.9042857142857142, 0.9522857142857143, 0.9377142857142857, 0.9511428571428572, 0.9588571428571429, 0.9597142857142857, 0.9497142857142857, 0.9374285714285714, 0.9794285714285714, 0.9582857142857143, 0.978, 0.9597142857142857, 0.9645714285714285]\n",
            "[7.4715643304506605, 5.4437697459491545, 16.3188318251254, 6.53590944752064, 4.842792106043185, 17.197682012868324, 12.795819474677076, 6.3611122173369745, 7.496433811884954, 12.017727753252924, 4.145581402791148, 8.16706571832926, 4.516017302003169, 5.241543382488506, 6.070263666961939]\n"
          ]
        }
      ],
      "source": [
        "num_riders = 3500\n",
        "num_stations = len(arrival_probabilities)\n",
        "duration_mean = 2.78\n",
        "duration_std = 0.619\n",
        "arrival_rate = 2.38\n",
        "stations_initial = [10 for _ in range(num_stations)]\n",
        "station_capacities = [10 for _ in range(num_stations)]\n",
        "sim_time = 24\n",
        "successful_riders = []\n",
        "wait_times = []\n",
        "num_sims = 15\n",
        "simulate(num_riders, duration_mean, duration_std, arrival_rate, num_stations, stations_initial, station_capacities, arrival_probabilities, destination_probabilities, sim_time, sim=1)\n",
        "for i in range(num_sims):\n",
        "    results = simulate(num_riders, duration_mean, duration_std, arrival_rate, num_stations, stations_initial, station_capacities, arrival_probabilities, destination_probabilities, sim_time, sim=1)\n",
        "    successful_riders.append(results[0])\n",
        "    wait_times.append(results[1])\n",
        "\n",
        "print(successful_riders)\n",
        "print(wait_times)"
      ]
    },
    {
      "cell_type": "markdown",
      "metadata": {},
      "source": [
        "### Confidence Interval Estimation"
      ]
    },
    {
      "cell_type": "markdown",
      "metadata": {},
      "source": [
        "Using the CLT and a student's t distribution, 90% confidence intervals will be estimated for each of the outputs in the above simulation."
      ]
    },
    {
      "cell_type": "code",
      "execution_count": 100,
      "metadata": {},
      "outputs": [],
      "source": [
        "from scipy.stats import t"
      ]
    },
    {
      "cell_type": "code",
      "execution_count": 101,
      "metadata": {},
      "outputs": [],
      "source": [
        "def students_t_interval(data, confidence_level):\n",
        "    sample_mean = np.mean(data)\n",
        "    sample_std = np.std(data)\n",
        "    deg = len(data) - 1\n",
        "    alpha = 1 - confidence_level\n",
        "    t_value = t.ppf(1 - alpha/2, deg)\n",
        "    margin_of_error = t_value * (sample_std / np.sqrt(len(data) - 1))\n",
        "    confidence_interval = (sample_mean - margin_of_error, sample_mean + margin_of_error)\n",
        "    return confidence_interval"
      ]
    },
    {
      "cell_type": "code",
      "execution_count": 109,
      "metadata": {},
      "outputs": [
        {
          "name": "stdout",
          "output_type": "stream",
          "text": [
            "90% Confidence Interval for the Proportion of Successful Riders: (0.9446648018805741, 0.9626113885956162)\n",
            "90% Confidence Interval for the Average Wait Time of a Successful Rider: (6.37972468741404, 10.2365572056104)\n"
          ]
        }
      ],
      "source": [
        "print(f'90% Confidence Interval for the Proportion of Successful Riders: {students_t_interval(successful_riders, 0.9)}')\n",
        "print(f'90% Confidence Interval for the Average Wait Time of a Successful Rider: {students_t_interval(wait_times, 0.9)}')"
      ]
    },
    {
      "cell_type": "markdown",
      "metadata": {
        "id": "thsqxL89rv98"
      },
      "source": [
        "## 2.3 An Idealized Experiment"
      ]
    },
    {
      "cell_type": "markdown",
      "metadata": {},
      "source": [
        "In this section, the simulator will be used to determine the minimum number of bikes needed to meet demand fully. Here, meet demand fully will mean that the average wait time will be zero. Note that since the interarrival time of riders is 2.38 riders per minute, it is impossible to guarantee that all riders will receive a bike, nor is it typical that every rider will recieve a bike (since 2.38/minute is 3427 riders over the 24 hour period the simulation is run)."
      ]
    },
    {
      "cell_type": "markdown",
      "metadata": {},
      "source": [
        "This experiment will be done by running the simulation 50 times, and keeping track of the number of bikes needed at each station to prevent any riders from needing to wait. Then, the max number of bikes for each station will be used, since this gaurantees that over all of the previous simulations no riders would have entered the arrival queue."
      ]
    },
    {
      "cell_type": "code",
      "execution_count": 148,
      "metadata": {
        "id": "ZzD9oki2r33H"
      },
      "outputs": [
        {
          "name": "stdout",
          "output_type": "stream",
          "text": [
            "[45 37 39 37 35 29 30 23 33 34 40 32 19 34 32 24 20 28 23 29 32 24 18 23\n",
            " 24 22 21 20 18 18 25 27 19 19 22 19 17 18 23 18 18 24 21 19 19 20 20 20\n",
            " 13 22 15 19 16 16 18 13 14 28 20 16 18 19 19 18 19 16 13 16 15 14 11 13\n",
            " 15 16 15  8  9  8  5  5  0]\n"
          ]
        }
      ],
      "source": [
        "num_riders = 3500\n",
        "num_stations = len(arrival_probabilities)\n",
        "duration_mean = 2.78\n",
        "duration_std = 0.619\n",
        "arrival_rate = 2.38\n",
        "stations_initial = [0 for _ in range(num_stations)]\n",
        "station_capacities = [np.inf for _ in range(num_stations)]\n",
        "sim_time = 24\n",
        "num_sims = 50\n",
        "bikes_needed = np.zeros((num_sims, num_locations), dtype=int)\n",
        "for i in range(num_sims):\n",
        "    results = simulate(num_riders, duration_mean, duration_std, arrival_rate, num_stations, stations_initial, station_capacities, arrival_probabilities, destination_probabilities, sim_time, sim=3)\n",
        "    bikes_needed[i, :] = results[2]\n",
        "\n",
        "max_values = np.max(bikes_needed, axis=0)\n",
        "num_bikes_result = np.array(max_values)\n",
        "print(num_bikes_result)"
      ]
    },
    {
      "cell_type": "markdown",
      "metadata": {},
      "source": [
        "As can be seen in the below code, the above values for the number of intial bikes at each station gives a wait time of 0 minutes for the 3500 riders. Note that the randomness of the simulation makes it so these initial values do not guarantee that the wait time will always be 0."
      ]
    },
    {
      "cell_type": "code",
      "execution_count": 150,
      "metadata": {},
      "outputs": [
        {
          "name": "stdout",
          "output_type": "stream",
          "text": [
            "Proportion of Successful Riders: 0.98\n",
            "Average Wait Time for Successful Riders: 0.0\n"
          ]
        }
      ],
      "source": [
        "stations_initial = num_bikes_result\n",
        "result = simulate(num_riders, duration_mean, duration_std, arrival_rate, num_stations, stations_initial, station_capacities, arrival_probabilities, destination_probabilities, sim_time, sim=1)\n",
        "print(f\"Proportion of Successful Riders: {result[0]}\")\n",
        "print(f\"Average Wait Time for Successful Riders: {result[1]}\")"
      ]
    }
  ],
  "metadata": {
    "colab": {
      "provenance": []
    },
    "kernelspec": {
      "display_name": "Python 3",
      "name": "python3"
    },
    "language_info": {
      "codemirror_mode": {
        "name": "ipython",
        "version": 3
      },
      "file_extension": ".py",
      "mimetype": "text/x-python",
      "name": "python",
      "nbconvert_exporter": "python",
      "pygments_lexer": "ipython3",
      "version": "3.11.5"
    }
  },
  "nbformat": 4,
  "nbformat_minor": 0
}
